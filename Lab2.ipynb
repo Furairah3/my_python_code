{
  "nbformat": 4,
  "nbformat_minor": 0,
  "metadata": {
    "colab": {
      "provenance": [],
      "toc_visible": true,
      "authorship_tag": "ABX9TyOjh4LMHIh7fmq+fSWyITsq",
      "include_colab_link": true
    },
    "kernelspec": {
      "name": "python3",
      "display_name": "Python 3"
    },
    "language_info": {
      "name": "python"
    }
  },
  "cells": [
    {
      "cell_type": "markdown",
      "metadata": {
        "id": "view-in-github",
        "colab_type": "text"
      },
      "source": [
        "<a href=\"https://colab.research.google.com/github/Furairah3/my_python_code/blob/main/Lab2.ipynb\" target=\"_parent\"><img src=\"https://colab.research.google.com/assets/colab-badge.svg\" alt=\"Open In Colab\"/></a>"
      ]
    },
    {
      "cell_type": "code",
      "execution_count": null,
      "metadata": {
        "id": "Ncye-hjpbCd-"
      },
      "outputs": [],
      "source": []
    },
    {
      "cell_type": "code",
      "source": [
        "# Question 1: Build a simulator of the task environment of the vacuum agent discussed in class, including an intelligent agent that acts rationally in that environment.\n",
        "\n",
        "# Define the environment with two grids\n",
        "class Environment:\n",
        "    def __init__(self):\n",
        "        self.grid_a = \"dirty\"  # Grid A starts dirty\n",
        "        self.grid_b = \"dirty\"  # Grid B starts dirty\n",
        "\n",
        "    def display(self):\n",
        "        print(f\"Grid A: {self.grid_a}, Grid B: {self.grid_b}\")\n",
        "\n",
        "    def clean(self, grid):\n",
        "        # Clean the specified grid\n",
        "        if grid == \"A\":\n",
        "            self.grid_a = \"clean\"\n",
        "        elif grid == \"B\":\n",
        "            self.grid_b = \"clean\"\n",
        "\n",
        "# Define the rational agent\n",
        "class RationalAgent:\n",
        "    def __init__(self, environment):\n",
        "        self.environment = environment\n",
        "        self.position = \"A\"  # Start at Grid A\n",
        "        self.performance = 0  # Track cleaned grids\n",
        "\n",
        "    def act(self):\n",
        "        # Check the current grid's status and clean if dirty\n",
        "        if self.position == \"A\" and self.environment.grid_a == \"dirty\":\n",
        "            print(\"Cleaning Grid A...\")\n",
        "            self.environment.clean(\"A\")\n",
        "            self.performance += 1\n",
        "        elif self.position == \"B\" and self.environment.grid_b == \"dirty\":\n",
        "            print(\"Cleaning Grid B...\")\n",
        "            self.environment.clean(\"B\")\n",
        "            self.performance += 1\n",
        "        else:\n",
        "            print(f\"Grid {self.position} is clean. Moving to the next grid...\")\n",
        "\n",
        "        # Move to the next grid\n",
        "        self.position = \"B\" if self.position == \"A\" else \"A\"\n",
        "\n",
        "    def report_performance(self):\n",
        "        print(f\"Grids cleaned: {self.performance}\")\n",
        "\n",
        "# Run the simulation\n",
        "print(\"Running Rational Agent Simulation\")\n",
        "def run_simulation():\n",
        "    env = Environment()  # Create the environment\n",
        "    agent = RationalAgent(env)  # Create the agent\n",
        "\n",
        "    print(\"Initial Environment:\")\n",
        "    env.display()\n",
        "\n",
        "    for _ in range(4):  # Run for 4 steps\n",
        "        agent.act()\n",
        "        env.display()\n",
        "\n",
        "    agent.report_performance()\n",
        "\n",
        "run_simulation()\n",
        "\n",
        "# Question 2: Develop 2 less rational agents than the one above and let them operate in the simulation.\n",
        "\n",
        "# Define a less rational random agent\n",
        "import random\n",
        "\n",
        "class RandomAgent:\n",
        "    def __init__(self, environment):\n",
        "        self.environment = environment\n",
        "        self.position = \"A\"  # Start at Grid A\n",
        "        self.performance = 0\n",
        "\n",
        "    def act(self):\n",
        "        # Randomly decide to clean or move\n",
        "        if random.choice([True, False]):\n",
        "            if self.position == \"A\" and self.environment.grid_a == \"dirty\":\n",
        "                print(\"Randomly cleaning Grid A...\")\n",
        "                self.environment.clean(\"A\")\n",
        "                self.performance += 1\n",
        "            elif self.position == \"B\" and self.environment.grid_b == \"dirty\":\n",
        "                print(\"Randomly cleaning Grid B...\")\n",
        "                self.environment.clean(\"B\")\n",
        "                self.performance += 1\n",
        "            else:\n",
        "                print(f\"Grid {self.position} is already clean.\")\n",
        "        else:\n",
        "            print(f\"Randomly moving to the next grid...\")\n",
        "\n",
        "        # Move to the next grid\n",
        "        self.position = \"B\" if self.position == \"A\" else \"A\"\n",
        "\n",
        "    def report_performance(self):\n",
        "        print(f\"Grids cleaned randomly: {self.performance}\")\n",
        "\n",
        "# Run the random agent simulation\n",
        "print(\"\\nRunning Random Agent Simulation\")\n",
        "def run_random_simulation():\n",
        "    env = Environment()\n",
        "    agent = RandomAgent(env)\n",
        "\n",
        "    print(\"Initial Environment:\")\n",
        "    env.display()\n",
        "\n",
        "    for _ in range(4):  # Run for 4 steps\n",
        "        agent.act()\n",
        "        env.display()\n",
        "\n",
        "    agent.report_performance()\n",
        "\n",
        "run_random_simulation()\n",
        "\n",
        "# Question 3: Instead of an environment with two grids, simulate an environment with n grids where n can be any integer less than 100.\n",
        "# Even-numbered grids are always clean, but odd-numbered grids can either be clean or dirty. Build the most rational agent for this environment.\n",
        "\n",
        "# Define the extended environment\n",
        "class ExtendedEnvironment:\n",
        "    def __init__(self, n):\n",
        "        self.n = n  # Number of grids\n",
        "        self.grids = [\"dirty\" if i % 2 != 0 else \"clean\" for i in range(1, n + 1)]  # Odd grids dirty, even grids clean\n",
        "\n",
        "    def display(self):\n",
        "        print(\"Environment:\", self.grids)\n",
        "\n",
        "    def clean(self, index):\n",
        "        self.grids[index] = \"clean\"\n",
        "\n",
        "# Define the intelligent agent for the extended environment\n",
        "class IntelligentAgent:\n",
        "    def __init__(self, environment):\n",
        "        self.environment = environment\n",
        "        self.position = 0  # Start at the first grid\n",
        "        self.performance = 0\n",
        "\n",
        "    def act(self):\n",
        "        # Check and clean the current grid\n",
        "        if self.environment.grids[self.position] == \"dirty\":\n",
        "            print(f\"Cleaning grid {self.position + 1}...\")\n",
        "            self.environment.clean(self.position)\n",
        "            self.performance += 1\n",
        "        else:\n",
        "            print(f\"Grid {self.position + 1} is clean.\")\n",
        "\n",
        "        # Move to the next grid if possible\n",
        "        if self.position < self.environment.n - 1:\n",
        "            self.position += 1\n",
        "\n",
        "    def report_performance(self):\n",
        "        print(f\"Grids cleaned: {self.performance}\")\n",
        "\n",
        "# Run the extended simulation\n",
        "print(\"\\nRunning Intelligent Agent Simulation in Extended Environment\")\n",
        "def run_extended_simulation():\n",
        "    n = 5  # Number of grids\n",
        "    env = ExtendedEnvironment(n)\n",
        "    agent = IntelligentAgent(env)\n",
        "\n",
        "    print(\"Initial Environment:\")\n",
        "    env.display()\n",
        "\n",
        "    for _ in range(n):  # Simulate for n steps\n",
        "        agent.act()\n",
        "        env.display()\n",
        "\n",
        "    agent.report_performance()\n",
        "\n",
        "run_extended_simulation()\n"
      ],
      "metadata": {
        "colab": {
          "base_uri": "https://localhost:8080/"
        },
        "id": "iw0w0my4bHsg",
        "outputId": "0c710e25-c1a2-497f-9323-3a6e2b9fe315"
      },
      "execution_count": 1,
      "outputs": [
        {
          "output_type": "stream",
          "name": "stdout",
          "text": [
            "Running Rational Agent Simulation\n",
            "Initial Environment:\n",
            "Grid A: dirty, Grid B: dirty\n",
            "Cleaning Grid A...\n",
            "Grid A: clean, Grid B: dirty\n",
            "Cleaning Grid B...\n",
            "Grid A: clean, Grid B: clean\n",
            "Grid A is clean. Moving to the next grid...\n",
            "Grid A: clean, Grid B: clean\n",
            "Grid B is clean. Moving to the next grid...\n",
            "Grid A: clean, Grid B: clean\n",
            "Grids cleaned: 2\n",
            "\n",
            "Running Random Agent Simulation\n",
            "Initial Environment:\n",
            "Grid A: dirty, Grid B: dirty\n",
            "Randomly cleaning Grid A...\n",
            "Grid A: clean, Grid B: dirty\n",
            "Randomly cleaning Grid B...\n",
            "Grid A: clean, Grid B: clean\n",
            "Grid A is already clean.\n",
            "Grid A: clean, Grid B: clean\n",
            "Randomly moving to the next grid...\n",
            "Grid A: clean, Grid B: clean\n",
            "Grids cleaned randomly: 2\n",
            "\n",
            "Running Intelligent Agent Simulation in Extended Environment\n",
            "Initial Environment:\n",
            "Environment: ['dirty', 'clean', 'dirty', 'clean', 'dirty']\n",
            "Cleaning grid 1...\n",
            "Environment: ['clean', 'clean', 'dirty', 'clean', 'dirty']\n",
            "Grid 2 is clean.\n",
            "Environment: ['clean', 'clean', 'dirty', 'clean', 'dirty']\n",
            "Cleaning grid 3...\n",
            "Environment: ['clean', 'clean', 'clean', 'clean', 'dirty']\n",
            "Grid 4 is clean.\n",
            "Environment: ['clean', 'clean', 'clean', 'clean', 'dirty']\n",
            "Cleaning grid 5...\n",
            "Environment: ['clean', 'clean', 'clean', 'clean', 'clean']\n",
            "Grids cleaned: 3\n"
          ]
        }
      ]
    },
    {
      "cell_type": "markdown",
      "source": [],
      "metadata": {
        "id": "U1x3swzubI-W"
      }
    },
    {
      "cell_type": "code",
      "source": [],
      "metadata": {
        "id": "5_Eldd3SbQZm"
      },
      "execution_count": null,
      "outputs": []
    },
    {
      "cell_type": "code",
      "source": [],
      "metadata": {
        "id": "1E7jf8XvbXou"
      },
      "execution_count": null,
      "outputs": []
    },
    {
      "cell_type": "code",
      "source": [],
      "metadata": {
        "id": "DcqDi-Elbduh"
      },
      "execution_count": null,
      "outputs": []
    },
    {
      "cell_type": "code",
      "source": [],
      "metadata": {
        "id": "e-2XnGqibgAH"
      },
      "execution_count": null,
      "outputs": []
    },
    {
      "cell_type": "code",
      "source": [],
      "metadata": {
        "id": "QHq2WpMLbk_e"
      },
      "execution_count": null,
      "outputs": []
    },
    {
      "cell_type": "code",
      "source": [],
      "metadata": {
        "id": "jMv81JStbsx_"
      },
      "execution_count": null,
      "outputs": []
    },
    {
      "cell_type": "code",
      "source": [],
      "metadata": {
        "colab": {
          "base_uri": "https://localhost:8080/",
          "height": 297
        },
        "id": "h4IO_cP8bvwf",
        "outputId": "5881d1c0-8cd8-4ec3-8d75-bdf32e79962e"
      },
      "execution_count": 1,
      "outputs": [
        {
          "output_type": "error",
          "ename": "NameError",
          "evalue": "name 'ExtendedEnvironment' is not defined",
          "traceback": [
            "\u001b[0;31m---------------------------------------------------------------------------\u001b[0m",
            "\u001b[0;31mNameError\u001b[0m                                 Traceback (most recent call last)",
            "\u001b[0;32m<ipython-input-1-137542204555>\u001b[0m in \u001b[0;36m<cell line: 0>\u001b[0;34m()\u001b[0m\n\u001b[1;32m     14\u001b[0m \u001b[0;34m\u001b[0m\u001b[0m\n\u001b[1;32m     15\u001b[0m \u001b[0;31m# Run the extended simulation\u001b[0m\u001b[0;34m\u001b[0m\u001b[0;34m\u001b[0m\u001b[0m\n\u001b[0;32m---> 16\u001b[0;31m \u001b[0mrun_extended_simulation\u001b[0m\u001b[0;34m(\u001b[0m\u001b[0;34m)\u001b[0m\u001b[0;34m\u001b[0m\u001b[0;34m\u001b[0m\u001b[0m\n\u001b[0m",
            "\u001b[0;32m<ipython-input-1-137542204555>\u001b[0m in \u001b[0;36mrun_extended_simulation\u001b[0;34m()\u001b[0m\n\u001b[1;32m      1\u001b[0m \u001b[0;32mdef\u001b[0m \u001b[0mrun_extended_simulation\u001b[0m\u001b[0;34m(\u001b[0m\u001b[0;34m)\u001b[0m\u001b[0;34m:\u001b[0m\u001b[0;34m\u001b[0m\u001b[0;34m\u001b[0m\u001b[0m\n\u001b[1;32m      2\u001b[0m     \u001b[0mn\u001b[0m \u001b[0;34m=\u001b[0m \u001b[0;36m5\u001b[0m  \u001b[0;31m# Number of grids\u001b[0m\u001b[0;34m\u001b[0m\u001b[0;34m\u001b[0m\u001b[0m\n\u001b[0;32m----> 3\u001b[0;31m     \u001b[0menv\u001b[0m \u001b[0;34m=\u001b[0m \u001b[0mExtendedEnvironment\u001b[0m\u001b[0;34m(\u001b[0m\u001b[0mn\u001b[0m\u001b[0;34m)\u001b[0m\u001b[0;34m\u001b[0m\u001b[0;34m\u001b[0m\u001b[0m\n\u001b[0m\u001b[1;32m      4\u001b[0m     \u001b[0magent\u001b[0m \u001b[0;34m=\u001b[0m \u001b[0mIntelligentAgent\u001b[0m\u001b[0;34m(\u001b[0m\u001b[0menv\u001b[0m\u001b[0;34m)\u001b[0m\u001b[0;34m\u001b[0m\u001b[0;34m\u001b[0m\u001b[0m\n\u001b[1;32m      5\u001b[0m \u001b[0;34m\u001b[0m\u001b[0m\n",
            "\u001b[0;31mNameError\u001b[0m: name 'ExtendedEnvironment' is not defined"
          ]
        }
      ]
    }
  ]
}